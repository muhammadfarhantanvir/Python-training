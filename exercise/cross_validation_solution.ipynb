{
  "nbformat": 4,
  "nbformat_minor": 0,
  "metadata": {
    "colab": {
      "provenance": []
    },
    "kernelspec": {
      "name": "python3",
      "display_name": "Python 3"
    },
    "language_info": {
      "name": "python"
    }
  },
  "cells": [
    {
      "cell_type": "code",
      "execution_count": 1,
      "metadata": {
        "colab": {
          "base_uri": "https://localhost:8080/"
        },
        "id": "VVmUwHa0alPD",
        "outputId": "a839ba5b-e5c0-48db-ce51-a17f7fe61e92"
      },
      "outputs": [
        {
          "output_type": "stream",
          "name": "stdout",
          "text": [
            "Cross-validated R-squared Scores:\n",
            "[0.37018919 0.48561389 0.42899253 0.37854334 0.42568441]\n",
            "Mean R-squared: 0.4178046722709731\n",
            "Standard Deviation of R-squared: 0.041458499127021806\n"
          ]
        }
      ],
      "source": [
        "from sklearn.datasets import load_diabetes\n",
        "from sklearn.model_selection import cross_val_score\n",
        "from sklearn.ensemble import RandomForestRegressor\n",
        "\n",
        "# Load the Diabetes dataset\n",
        "diabetes = load_diabetes()\n",
        "X = diabetes.data\n",
        "y = diabetes.target\n",
        "\n",
        "# Initialize a RandomForestRegressor model\n",
        "rf_model = RandomForestRegressor()\n",
        "\n",
        "# Use cross_val_score for 5-fold cross-validation with R-squared scoring\n",
        "cv_r2_scores = cross_val_score(rf_model, X, y, cv=5, scoring='r2')\n",
        "\n",
        "# Print the cross-validated R-squared scores\n",
        "print(\"Cross-validated R-squared Scores:\")\n",
        "print(cv_r2_scores)\n",
        "\n",
        "# Calculate and print the mean and standard deviation of the R-squared scores\n",
        "mean_r2 = cv_r2_scores.mean()\n",
        "std_r2 = cv_r2_scores.std()\n",
        "print(\"Mean R-squared:\", mean_r2)\n",
        "print(\"Standard Deviation of R-squared:\", std_r2)\n"
      ]
    }
  ]
}