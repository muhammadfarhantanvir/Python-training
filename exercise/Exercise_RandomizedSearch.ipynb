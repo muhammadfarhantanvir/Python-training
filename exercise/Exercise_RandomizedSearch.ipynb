{
  "nbformat": 4,
  "nbformat_minor": 0,
  "metadata": {
    "colab": {
      "provenance": []
    },
    "kernelspec": {
      "name": "python3",
      "display_name": "Python 3"
    },
    "language_info": {
      "name": "python"
    }
  },
  "cells": [
    {
      "cell_type": "code",
      "source": [
        "\"\"\"\n",
        "Task:\n",
        "Import the necessary libraries.\n",
        "Initialize a RandomForestClassifier model.\n",
        "Define the hyperparameters to tune using RandomizedSearchCV.\n",
        "Use RandomizedSearchCV to perform hyperparameter tuning on the training set.\n",
        "Print the best hyperparameters found by RandomizedSearchCV.\n",
        "Evaluate the model with the best hyperparameters on the test set.\n",
        "Print the classification report and accuracy.\n",
        "\"\"\""
      ],
      "metadata": {
        "id": "ST0cnl3MWVFM"
      },
      "execution_count": null,
      "outputs": []
    },
    {
      "cell_type": "code",
      "execution_count": 1,
      "metadata": {
        "id": "RAgWM2N0V3XY"
      },
      "outputs": [],
      "source": [
        "from sklearn.datasets import load_breast_cancer\n",
        "from sklearn.model_selection import train_test_split\n",
        "from sklearn.ensemble import RandomForestClassifier\n",
        "\n",
        "# Load the Breast Cancer dataset\n",
        "cancer = load_breast_cancer()\n",
        "X = cancer.data\n",
        "y = cancer.target\n",
        "\n",
        "# Split the dataset into training and testing sets\n",
        "X_train, X_test, y_train, y_test = train_test_split(X, y, test_size=0.2, random_state=42)\n"
      ]
    },
    {
      "cell_type": "code",
      "source": [
        "param_dist = {\n",
        "    'n_estimators': [50, 100, 150, 200],\n",
        "    'max_depth': [None, 10, 20, 30],\n",
        "    'min_samples_split': [2, 5, 10],\n",
        "    'min_samples_leaf': [1, 2, 4],\n",
        "}\n"
      ],
      "metadata": {
        "id": "0GNQhHS3WSFG"
      },
      "execution_count": null,
      "outputs": []
    }
  ]
}