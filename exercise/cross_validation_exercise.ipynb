{
  "nbformat": 4,
  "nbformat_minor": 0,
  "metadata": {
    "colab": {
      "provenance": []
    },
    "kernelspec": {
      "name": "python3",
      "display_name": "Python 3"
    },
    "language_info": {
      "name": "python"
    }
  },
  "cells": [
    {
      "cell_type": "code",
      "execution_count": null,
      "metadata": {
        "id": "VVmUwHa0alPD"
      },
      "outputs": [],
      "source": [
        "\"\"\"\n",
        "Task:\n",
        "Import the necessary libraries.\n",
        "Load the Diabetes dataset.\n",
        "Initialize a RandomForestRegressor model.\n",
        "Use the cross_val_score function to perform 5-fold cross-validation on the entire dataset with the Random Forest model.\n",
        "Print the cross-validated R-squared scores (coefficient of determination).\n",
        "Calculate and print the mean and standard deviation of the R-squared  scores.\n",
        "\"\"\""
      ]
    }
  ]
}