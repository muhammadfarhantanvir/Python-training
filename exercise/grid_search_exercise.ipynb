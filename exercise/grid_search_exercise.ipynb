{
  "nbformat": 4,
  "nbformat_minor": 0,
  "metadata": {
    "colab": {
      "provenance": []
    },
    "kernelspec": {
      "name": "python3",
      "display_name": "Python 3"
    },
    "language_info": {
      "name": "python"
    }
  },
  "cells": [
    {
      "cell_type": "code",
      "execution_count": null,
      "metadata": {
        "id": "igIuIIgXZVDS"
      },
      "outputs": [],
      "source": [
        "\"\"\"\n",
        "Task:\n",
        "Import the necessary libraries.\n",
        "Load the Digits dataset and split it into training and testing sets.\n",
        "Initialize an SVC model.\n",
        "Define the hyperparameters to tune using GridSearchCV.\n",
        "Use GridSearchCV to perform hyperparameter tuning on the training set.\n",
        "Print the best hyperparameters found by GridSearchCV.\n",
        "Evaluate the model with the best hyperparameters on the test set.\n",
        "Print the classification report and accuracy.\n",
        "\"\"\""
      ]
    }
  ]
}